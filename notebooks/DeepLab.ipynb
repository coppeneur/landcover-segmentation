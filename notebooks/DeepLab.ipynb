{
 "cells": [
  {
   "cell_type": "code",
   "execution_count": 1,
   "outputs": [],
   "source": [
    "import cv2\n",
    "import glob\n",
    "import os\n",
    "import numpy as np\n",
    "import matplotlib.pyplot as plt\n",
    "import seaborn as sns\n",
    "\n",
    "sns.set_style(\"dark\")\n",
    "\n",
    "DATA_ROOT = \"../data\""
   ],
   "metadata": {
    "collapsed": false,
    "ExecuteTime": {
     "end_time": "2023-12-20T21:36:36.972103300Z",
     "start_time": "2023-12-20T21:36:36.924766200Z"
    }
   },
   "id": "e3200344233b443d"
  },
  {
   "cell_type": "code",
   "execution_count": 2,
   "outputs": [
    {
     "name": "stdout",
     "output_type": "stream",
     "text": [
      "using cpu\n"
     ]
    }
   ],
   "source": [
    "import torch\n",
    "from torch.utils.data import DataLoader\n",
    "from utils import SegmentationDataset\n",
    "\n",
    "device = \"cuda\" if torch.cuda.is_available() else \"cpu\"\n",
    "print(f\"using \" + device)"
   ],
   "metadata": {
    "collapsed": false,
    "ExecuteTime": {
     "end_time": "2023-12-20T21:36:40.523257500Z",
     "start_time": "2023-12-20T21:36:36.975141300Z"
    }
   },
   "id": "46f838c22bad658"
  },
  {
   "cell_type": "code",
   "execution_count": 3,
   "outputs": [
    {
     "name": "stdout",
     "output_type": "stream",
     "text": [
      "train: 11 \n",
      "test: 2 \n",
      "val: 2 \n",
      "\n",
      "Using the whole train set --> 11\n"
     ]
    }
   ],
   "source": [
    "train_set = SegmentationDataset(mode = \"train\")\n",
    "train_dloader = DataLoader(train_set,batch_size = 8,num_workers =2)\n",
    "\n",
    "class_dist = {\"background\":0, \"urban_land\":0,\n",
    "              \"forest_land\":0, \"water\":0, \"agriculture_land\":0, \"range_land\":0, \"barren_land\":0}\n",
    "label_mapping = {0: \"background\", 1: \"urban_land\",\n",
    "                 2: \"forest_land\", 3: \"water\", 4: \"agriculture_land\", 5: \"range_land\", 6: \"barren_land\"}\n",
    "\n",
    "for img,mask in train_dloader:\n",
    "    for class_label in label_mapping.keys():\n",
    "        class_dist[label_mapping[class_label]] += mask[mask == class_label].numpy().size"
   ],
   "metadata": {
    "collapsed": false,
    "ExecuteTime": {
     "end_time": "2023-12-20T21:36:47.372686900Z",
     "start_time": "2023-12-20T21:36:40.525584300Z"
    }
   },
   "id": "59cea5c417e6faf1"
  },
  {
   "cell_type": "code",
   "execution_count": 4,
   "outputs": [],
   "source": [
    "import albumentations as A\n",
    "\n",
    "\n",
    "# Configuring the set of transformations\n",
    "transforms = A.Compose([\n",
    "    A.OneOf([\n",
    "        A.HueSaturationValue(40,40,30,p=1),\n",
    "        A.RandomBrightnessContrast(p=1,brightness_limit = 0.2,\n",
    "                                   contrast_limit = 0.5)], p = 0.5),\n",
    "    A.OneOf([\n",
    "        A.RandomRotate90(p=1),\n",
    "        A.HorizontalFlip(p=1),\n",
    "        A.RandomSizedCrop(min_max_height=(248,512),height=512,width=512, p =1)\n",
    "    ], p = 0.5)])"
   ],
   "metadata": {
    "collapsed": false,
    "ExecuteTime": {
     "end_time": "2023-12-20T21:36:47.854129800Z",
     "start_time": "2023-12-20T21:36:47.377680400Z"
    }
   },
   "id": "67cfec94deb96204"
  },
  {
   "cell_type": "code",
   "execution_count": 5,
   "outputs": [
    {
     "name": "stdout",
     "output_type": "stream",
     "text": [
      "Requirement already satisfied: segmentation-models-pytorch in c:\\users\\uni\\documents\\dlivp\\dlivp-workspace\\venv\\lib\\site-packages (0.3.3)\n",
      "Requirement already satisfied: torchvision>=0.5.0 in c:\\users\\uni\\documents\\dlivp\\dlivp-workspace\\venv\\lib\\site-packages (from segmentation-models-pytorch) (0.16.1)\n",
      "Requirement already satisfied: tqdm in c:\\users\\uni\\documents\\dlivp\\dlivp-workspace\\venv\\lib\\site-packages (from segmentation-models-pytorch) (4.66.1)\n",
      "Requirement already satisfied: pillow in c:\\users\\uni\\documents\\dlivp\\dlivp-workspace\\venv\\lib\\site-packages (from segmentation-models-pytorch) (10.1.0)\n",
      "Requirement already satisfied: timm==0.9.2 in c:\\users\\uni\\documents\\dlivp\\dlivp-workspace\\venv\\lib\\site-packages (from segmentation-models-pytorch) (0.9.2)\n",
      "Requirement already satisfied: pretrainedmodels==0.7.4 in c:\\users\\uni\\documents\\dlivp\\dlivp-workspace\\venv\\lib\\site-packages (from segmentation-models-pytorch) (0.7.4)\n",
      "Requirement already satisfied: efficientnet-pytorch==0.7.1 in c:\\users\\uni\\documents\\dlivp\\dlivp-workspace\\venv\\lib\\site-packages (from segmentation-models-pytorch) (0.7.1)\n",
      "Requirement already satisfied: torch in c:\\users\\uni\\documents\\dlivp\\dlivp-workspace\\venv\\lib\\site-packages (from efficientnet-pytorch==0.7.1->segmentation-models-pytorch) (2.1.1)\n",
      "Requirement already satisfied: munch in c:\\users\\uni\\documents\\dlivp\\dlivp-workspace\\venv\\lib\\site-packages (from pretrainedmodels==0.7.4->segmentation-models-pytorch) (4.0.0)\n",
      "Requirement already satisfied: safetensors in c:\\users\\uni\\documents\\dlivp\\dlivp-workspace\\venv\\lib\\site-packages (from timm==0.9.2->segmentation-models-pytorch) (0.4.1)\n",
      "Requirement already satisfied: huggingface-hub in c:\\users\\uni\\documents\\dlivp\\dlivp-workspace\\venv\\lib\\site-packages (from timm==0.9.2->segmentation-models-pytorch) (0.19.4)\n",
      "Requirement already satisfied: pyyaml in c:\\users\\uni\\documents\\dlivp\\dlivp-workspace\\venv\\lib\\site-packages (from timm==0.9.2->segmentation-models-pytorch) (6.0.1)\n",
      "Requirement already satisfied: numpy in c:\\users\\uni\\documents\\dlivp\\dlivp-workspace\\venv\\lib\\site-packages (from torchvision>=0.5.0->segmentation-models-pytorch) (1.26.2)\n",
      "Requirement already satisfied: requests in c:\\users\\uni\\documents\\dlivp\\dlivp-workspace\\venv\\lib\\site-packages (from torchvision>=0.5.0->segmentation-models-pytorch) (2.31.0)\n",
      "Requirement already satisfied: networkx in c:\\users\\uni\\documents\\dlivp\\dlivp-workspace\\venv\\lib\\site-packages (from torch->efficientnet-pytorch==0.7.1->segmentation-models-pytorch) (3.2.1)\n",
      "Requirement already satisfied: sympy in c:\\users\\uni\\documents\\dlivp\\dlivp-workspace\\venv\\lib\\site-packages (from torch->efficientnet-pytorch==0.7.1->segmentation-models-pytorch) (1.12)\n",
      "Requirement already satisfied: jinja2 in c:\\users\\uni\\documents\\dlivp\\dlivp-workspace\\venv\\lib\\site-packages (from torch->efficientnet-pytorch==0.7.1->segmentation-models-pytorch) (3.1.2)\n",
      "Requirement already satisfied: typing-extensions in c:\\users\\uni\\documents\\dlivp\\dlivp-workspace\\venv\\lib\\site-packages (from torch->efficientnet-pytorch==0.7.1->segmentation-models-pytorch) (4.8.0)\n",
      "Requirement already satisfied: filelock in c:\\users\\uni\\documents\\dlivp\\dlivp-workspace\\venv\\lib\\site-packages (from torch->efficientnet-pytorch==0.7.1->segmentation-models-pytorch) (3.13.1)\n",
      "Requirement already satisfied: fsspec in c:\\users\\uni\\documents\\dlivp\\dlivp-workspace\\venv\\lib\\site-packages (from torch->efficientnet-pytorch==0.7.1->segmentation-models-pytorch) (2023.10.0)\n",
      "Requirement already satisfied: colorama in c:\\users\\uni\\documents\\dlivp\\dlivp-workspace\\venv\\lib\\site-packages (from tqdm->segmentation-models-pytorch) (0.4.6)\n",
      "Requirement already satisfied: packaging>=20.9 in c:\\users\\uni\\documents\\dlivp\\dlivp-workspace\\venv\\lib\\site-packages (from huggingface-hub->timm==0.9.2->segmentation-models-pytorch) (23.2)\n",
      "Requirement already satisfied: certifi>=2017.4.17 in c:\\users\\uni\\documents\\dlivp\\dlivp-workspace\\venv\\lib\\site-packages (from requests->torchvision>=0.5.0->segmentation-models-pytorch) (2023.11.17)\n",
      "Requirement already satisfied: charset-normalizer<4,>=2 in c:\\users\\uni\\documents\\dlivp\\dlivp-workspace\\venv\\lib\\site-packages (from requests->torchvision>=0.5.0->segmentation-models-pytorch) (3.3.2)\n",
      "Requirement already satisfied: urllib3<3,>=1.21.1 in c:\\users\\uni\\documents\\dlivp\\dlivp-workspace\\venv\\lib\\site-packages (from requests->torchvision>=0.5.0->segmentation-models-pytorch) (2.1.0)\n",
      "Requirement already satisfied: idna<4,>=2.5 in c:\\users\\uni\\documents\\dlivp\\dlivp-workspace\\venv\\lib\\site-packages (from requests->torchvision>=0.5.0->segmentation-models-pytorch) (3.6)\n",
      "Requirement already satisfied: MarkupSafe>=2.0 in c:\\users\\uni\\documents\\dlivp\\dlivp-workspace\\venv\\lib\\site-packages (from jinja2->torch->efficientnet-pytorch==0.7.1->segmentation-models-pytorch) (2.1.3)\n",
      "Requirement already satisfied: mpmath>=0.19 in c:\\users\\uni\\documents\\dlivp\\dlivp-workspace\\venv\\lib\\site-packages (from sympy->torch->efficientnet-pytorch==0.7.1->segmentation-models-pytorch) (1.3.0)\n"
     ]
    },
    {
     "name": "stderr",
     "output_type": "stream",
     "text": [
      "\n",
      "[notice] A new release of pip available: 22.3.1 -> 23.3.2\n",
      "[notice] To update, run: python.exe -m pip install --upgrade pip\n"
     ]
    }
   ],
   "source": [
    "!pip install segmentation-models-pytorch\n",
    "\n",
    "import segmentation_models_pytorch as smp"
   ],
   "metadata": {
    "collapsed": false,
    "ExecuteTime": {
     "end_time": "2023-12-20T21:36:51.095477Z",
     "start_time": "2023-12-20T21:36:47.856130900Z"
    }
   },
   "id": "bfd3f108e3954743"
  },
  {
   "cell_type": "code",
   "execution_count": 6,
   "outputs": [
    {
     "name": "stdout",
     "output_type": "stream",
     "text": [
      "train: 11 \n",
      "test: 2 \n",
      "val: 2 \n",
      "\n",
      "Using the 60.00% of the initial train set --> 6|11\n",
      "train: 11 \n",
      "test: 2 \n",
      "val: 2 \n",
      "\n",
      "Using the whole test set --> 2\n",
      "train: 11 \n",
      "test: 2 \n",
      "val: 2 \n",
      "\n",
      "Using the 70.00% of the initial val set --> 1|2\n"
     ]
    }
   ],
   "source": [
    "device = \"cuda\" if torch.cuda.is_available() else \"cpu\"\n",
    "target_names = np.array([\"unknown/background\", \"urban_land/building\", \"forest_land/woodland\", \"water\", \"agriculture_land\", \"range_land\", \"barren_land\"])\n",
    "\n",
    "# Loss function - Mean IoU loss\n",
    "loss_fn = smp.losses.JaccardLoss(mode = \"multiclass\",\n",
    "                                 classes = 7).to(device)\n",
    "loss_fn.__name__ = 'JaccardLoss'\n",
    "\n",
    "# Hyperparameters\n",
    "batch_size = 4 # TODO adjust this? prev 8 now 4\n",
    "epochs = 80\n",
    "epochs = 3\n",
    "lr = 5e-5\n",
    "\n",
    "# Preparing datasets and DataLoaders\n",
    "train_set = SegmentationDataset(mode = \"train\", transforms = transforms, ratio = 0.6)\n",
    "test_set = SegmentationDataset(mode = \"test\")\n",
    "val_set = SegmentationDataset(mode = \"val\", ratio = 0.7)\n",
    "\n",
    "train_dloader = DataLoader(train_set, batch_size = batch_size,\n",
    "                           shuffle = True, num_workers = 2)\n",
    "test_dloader = DataLoader(test_set, batch_size = batch_size, num_workers = 2)\n",
    "val_dloader = DataLoader(val_set, batch_size=batch_size, num_workers = 2)"
   ],
   "metadata": {
    "collapsed": false,
    "ExecuteTime": {
     "end_time": "2023-12-20T21:36:51.201508Z",
     "start_time": "2023-12-20T21:36:51.099150500Z"
    }
   },
   "id": "206f0dc2688c258a"
  },
  {
   "cell_type": "code",
   "execution_count": 7,
   "outputs": [],
   "source": [
    "from utils import training_loop\n",
    "from utils import class_report\n",
    "from utils import visualize_preds"
   ],
   "metadata": {
    "collapsed": false,
    "ExecuteTime": {
     "end_time": "2023-12-20T21:36:51.235019Z",
     "start_time": "2023-12-20T21:36:51.130266500Z"
    }
   },
   "id": "71c058847aab7f31"
  },
  {
   "cell_type": "code",
   "execution_count": 8,
   "outputs": [],
   "source": [
    "ENCODER = 'resnet50'\n",
    "ENCODER_WEIGHTS = 'imagenet'\n"
   ],
   "metadata": {
    "collapsed": false,
    "ExecuteTime": {
     "end_time": "2023-12-20T21:36:51.235019Z",
     "start_time": "2023-12-20T21:36:51.145704Z"
    }
   },
   "id": "2a3089e092f0b81c"
  },
  {
   "cell_type": "code",
   "execution_count": 9,
   "outputs": [],
   "source": [
    " model = smp.DeepLabV3Plus(encoder_name = \"resnet50\",\n",
    "                          encoder_weights = \"imagenet\",\n",
    "                          decoder_atrous_rates = (12,18,24),\n",
    "                          encoder_output_stride =16,\n",
    "                          classes = 7).to(device)"
   ],
   "metadata": {
    "collapsed": false,
    "ExecuteTime": {
     "end_time": "2023-12-20T21:36:51.726629800Z",
     "start_time": "2023-12-20T21:36:51.163114800Z"
    }
   },
   "id": "be91b73a18609f2c"
  },
  {
   "cell_type": "code",
   "execution_count": 10,
   "outputs": [
    {
     "name": "stdout",
     "output_type": "stream",
     "text": [
      "Training of DeepLabV3+ with Resnet encoder starts!\n",
      "Using loss as stopping criterion.\n",
      "Epoch: 1/3     Training Loss: 0.3323     Validation Loss: 0.2658\n",
      "Validation loss decreased (inf --> 0.265788).  Saving model ...\n",
      "Epoch: 2/3     Training Loss: 0.3325     Validation Loss: 0.2655\n",
      "Validation loss decreased (0.265788 --> 0.265476).  Saving model ...\n",
      "Epoch: 3/3     Training Loss: 0.3285     Validation Loss: 0.2652\n",
      "Validation loss decreased (0.265476 --> 0.265157).  Saving model ...\n"
     ]
    },
    {
     "data": {
      "text/plain": "<Figure size 800x800 with 1 Axes>",
      "image/png": "[encoded data removed]"
     },
     "metadata": {},
     "output_type": "display_data"
    },
    {
     "name": "stdout",
     "output_type": "stream",
     "text": [
      "\n",
      " Training completed in 1.0 m 18.94 s.\n"
     ]
    }
   ],
   "source": [
    "# Training starts!\n",
    "training_loop(model, train_dloader, val_dloader, epochs, lr, loss_fn, mod_epochs =1,\n",
    "              regularization = \"L2\", reg_lambda = 1e-6, early_stopping = True,\n",
    "              patience = 5, verbose = True, model_title = \"DeepLabV3+ with Resnet encoder\", save = True,\n",
    "              stopping_criterion = \"loss\")"
   ],
   "metadata": {
    "collapsed": false,
    "ExecuteTime": {
     "end_time": "2023-12-20T21:38:10.769328700Z",
     "start_time": "2023-12-20T21:36:51.724365700Z"
    }
   },
   "id": "c057be94bd41f213"
  },
  {
   "cell_type": "code",
   "execution_count": 12,
   "outputs": [
    {
     "name": "stdout",
     "output_type": "stream",
     "text": [
      "                  Class  Precision  Recall  F1-Score  Support\n",
      "0    unknown/background        0.0     0.0       0.0       17\n",
      "1   urban_land/building        0.0     0.0       0.0        0\n",
      "2  forest_land/woodland        0.0     0.0       0.0        0\n",
      "3                 water        0.0     0.0       0.0        0\n",
      "4      agriculture_land        0.0     0.0       0.0   518311\n",
      "5            range_land        0.0     0.0       0.0     5960\n",
      "6           barren_land        0.0     0.0       0.0        0\n",
      "\n",
      "  Total Accuracy: 0.0000\n",
      "\n",
      "  Mean IoU:         0.0000\n",
      "\n",
      "Class Probabilities:\n",
      "unknown/background  : nan\n",
      "urban_land/building : nan\n",
      "forest_land/woodland: nan\n",
      "water               : 0.149\n",
      "agriculture_land    : nan\n",
      "range_land          : nan\n",
      "barren_land         : 0.149\n"
     ]
    },
    {
     "name": "stderr",
     "output_type": "stream",
     "text": [
      "C:\\Users\\Uni\\Documents\\DLIVP\\dlivp-workspace\\notebooks\\utils.py:529: RuntimeWarning: invalid value encountered in divide\n",
      "  f1 = np.where((precision + recall) > 0, 2 * (precision * recall) / (precision + recall), 0.0)\n"
     ]
    }
   ],
   "source": [
    "from utils import segmentation_test_loop\n",
    "from utils import class_report\n",
    "\n",
    "# Evaluation - Accuracy + MIoU\n",
    "scores, acc, jaccard, class_probs = segmentation_test_loop(model = model, test_loader = test_dloader,\n",
    "                                                           device = device)\n",
    "\n",
    "class_report(target_names, scores, acc, jaccard, class_probs)"
   ],
   "metadata": {
    "collapsed": false,
    "ExecuteTime": {
     "end_time": "2023-12-20T21:38:49.415645Z",
     "start_time": "2023-12-20T21:38:41.159233800Z"
    }
   },
   "id": "cc5c63f47f47f45d"
  },
  {
   "cell_type": "code",
   "execution_count": null,
   "outputs": [],
   "source": [
    "# indices = [957,961,1476,1578]\n",
    "visualize_preds(model, test_set, title = \"Predictions - DeepLabV3+\",\n",
    "                save_title = \"DeepLabV3+\", h = 12, w = 12)"
   ],
   "metadata": {
    "collapsed": false,
    "is_executing": true,
    "ExecuteTime": {
     "start_time": "2023-12-20T21:42:14.613383600Z"
    }
   },
   "id": "4661d3d1ecd5ad87"
  }
 ],
 "metadata": {
  "kernelspec": {
   "display_name": "Python 3",
   "language": "python",
   "name": "python3"
  },
  "language_info": {
   "codemirror_mode": {
    "name": "ipython",
    "version": 2
   },
   "file_extension": ".py",
   "mimetype": "text/x-python",
   "name": "python",
   "nbconvert_exporter": "python",
   "pygments_lexer": "ipython2",
   "version": "2.7.6"
  }
 },
 "nbformat": 4,
 "nbformat_minor": 5
}
