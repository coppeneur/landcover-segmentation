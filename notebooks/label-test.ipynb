{
 "cells": [
  {
   "cell_type": "markdown",
   "source": [
    "# Merging LandCover.ai and DeepGlobe dataset\n",
    "\n",
    "### todo\n",
    "- [ ] find fitting resolution\n",
    "- [ ] transfer labels to same\n",
    "- [ ] Resize resolution\n",
    "- [ ] v0 verwenden weil da keine straßen als label sind??\n",
    "\n",
    "### additional info\n",
    "\n",
    "using landcover.ai v1"
   ],
   "metadata": {
    "collapsed": false
   },
   "id": "c8f60c3a55e40d47"
  },
  {
   "cell_type": "code",
   "execution_count": 7,
   "outputs": [],
   "source": [
    "import cv2\n",
    "import numpy as np\n",
    "import matplotlib.pyplot as plt\n",
    "import seaborn as sns"
   ],
   "metadata": {
    "collapsed": false,
    "ExecuteTime": {
     "end_time": "2023-12-18T22:33:25.680729500Z",
     "start_time": "2023-12-18T22:33:25.513680300Z"
    }
   },
   "id": "ae541b190bbdf5fb"
  },
  {
   "cell_type": "code",
   "execution_count": 8,
   "outputs": [],
   "source": [
    "# data root\n",
    "LANDCOVER_AI_ROOT = '../data/landcover.ai.v1'\n",
    "DEEPGLOBE_ROOT = '../data/deepglobe'\n",
    "MERGED_ROOT = '../data/merge'"
   ],
   "metadata": {
    "collapsed": false,
    "ExecuteTime": {
     "end_time": "2023-12-18T22:33:25.771306400Z",
     "start_time": "2023-12-18T22:33:25.527252400Z"
    }
   },
   "id": "286dde655140d68b"
  },
  {
   "cell_type": "markdown",
   "source": [
    "Landcover.ai dataset masks need to be mapped from class to color to visualise the pictures "
   ],
   "metadata": {
    "collapsed": false
   },
   "id": "4308433bb5f6c3fb"
  },
  {
   "cell_type": "code",
   "execution_count": 9,
   "outputs": [],
   "source": [
    "from notebooks.merge import split_images\n",
    "# cropping images due to gpu resource and the need of fixed size for the algorithm\n",
    "# split_images(LANDCOVER_AI_ROOT, \"../data/hotencode-test\")\n",
    "# split_images(DEEPGLOBE_ROOT + '/train', \"../data/hotencode-test\")\n",
    "# split_images(FIRST_LANDCOVER_AI_ROOT + '/train', \"../data/hotencode-test\")"
   ],
   "metadata": {
    "collapsed": false,
    "ExecuteTime": {
     "end_time": "2023-12-18T22:33:25.792499900Z",
     "start_time": "2023-12-18T22:33:25.540241Z"
    }
   },
   "id": "7d8b3cf01c0dd442"
  },
  {
   "cell_type": "code",
   "execution_count": 10,
   "outputs": [],
   "source": [
    "import notebooks.merge as ut\n",
    "\n",
    "metadata_df = ut.read_metadata('../data/hotencode-test')\n",
    "file_name = '../data/metadata-new.xlsx'\n",
    "metadata_df.to_excel(file_name, index=False, na_rep='N/A', index_label='ID')"
   ],
   "metadata": {
    "collapsed": false,
    "ExecuteTime": {
     "end_time": "2023-12-18T22:33:25.810995100Z",
     "start_time": "2023-12-18T22:33:25.557307Z"
    }
   },
   "id": "f57647295d5f0b11"
  },
  {
   "cell_type": "code",
   "execution_count": 11,
   "outputs": [
    {
     "data": {
      "text/plain": "(12, 3)"
     },
     "execution_count": 11,
     "metadata": {},
     "output_type": "execute_result"
    }
   ],
   "source": [
    "# Perform 90/10 split for train / val\n",
    "valid_df = metadata_df.sample(frac=0.2, random_state=42)\n",
    "train_df = metadata_df.drop(valid_df.index)\n",
    "len(train_df), len(valid_df)"
   ],
   "metadata": {
    "collapsed": false,
    "ExecuteTime": {
     "end_time": "2023-12-18T22:33:25.814162700Z",
     "start_time": "2023-12-18T22:33:25.609251400Z"
    }
   },
   "id": "27cd38ac9e50adc3"
  },
  {
   "cell_type": "code",
   "execution_count": 12,
   "outputs": [
    {
     "data": {
      "text/plain": "     image_id                        sat_image_path  \\\n0    100694_5   ../data/hotencode-test\\100694_5.jpg   \n1    100694_1   ../data/hotencode-test\\100694_1.jpg   \n2    100694_6   ../data/hotencode-test\\100694_6.jpg   \n3    100694_0   ../data/hotencode-test\\100694_0.jpg   \n4    100694_7   ../data/hotencode-test\\100694_7.jpg   \n5    100694_8   ../data/hotencode-test\\100694_8.jpg   \n6    100694_2   ../data/hotencode-test\\100694_2.jpg   \n7    100694_3   ../data/hotencode-test\\100694_3.jpg   \n8   100694_13  ../data/hotencode-test\\100694_13.jpg   \n9   100694_10  ../data/hotencode-test\\100694_10.jpg   \n10   102122_1   ../data/hotencode-test\\102122_1.jpg   \n11  100694_11  ../data/hotencode-test\\100694_11.jpg   \n12  100694_15  ../data/hotencode-test\\100694_15.jpg   \n13  100694_12  ../data/hotencode-test\\100694_12.jpg   \n14   102122_0   ../data/hotencode-test\\102122_0.jpg   \n\n                                 mask_path  \n0    ../data/hotencode-test\\100694_5_m.png  \n1    ../data/hotencode-test\\100694_1_m.png  \n2    ../data/hotencode-test\\100694_6_m.png  \n3    ../data/hotencode-test\\100694_0_m.png  \n4    ../data/hotencode-test\\100694_7_m.png  \n5    ../data/hotencode-test\\100694_8_m.png  \n6    ../data/hotencode-test\\100694_2_m.png  \n7    ../data/hotencode-test\\100694_3_m.png  \n8   ../data/hotencode-test\\100694_13_m.png  \n9   ../data/hotencode-test\\100694_10_m.png  \n10   ../data/hotencode-test\\102122_1_m.png  \n11  ../data/hotencode-test\\100694_11_m.png  \n12  ../data/hotencode-test\\100694_15_m.png  \n13  ../data/hotencode-test\\100694_12_m.png  \n14   ../data/hotencode-test\\102122_0_m.png  ",
      "text/html": "<div>\n<style scoped>\n    .dataframe tbody tr th:only-of-type {\n        vertical-align: middle;\n    }\n\n    .dataframe tbody tr th {\n        vertical-align: top;\n    }\n\n    .dataframe thead th {\n        text-align: right;\n    }\n</style>\n<table border=\"1\" class=\"dataframe\">\n  <thead>\n    <tr style=\"text-align: right;\">\n      <th></th>\n      <th>image_id</th>\n      <th>sat_image_path</th>\n      <th>mask_path</th>\n    </tr>\n  </thead>\n  <tbody>\n    <tr>\n      <th>0</th>\n      <td>100694_5</td>\n      <td>../data/hotencode-test\\100694_5.jpg</td>\n      <td>../data/hotencode-test\\100694_5_m.png</td>\n    </tr>\n    <tr>\n      <th>1</th>\n      <td>100694_1</td>\n      <td>../data/hotencode-test\\100694_1.jpg</td>\n      <td>../data/hotencode-test\\100694_1_m.png</td>\n    </tr>\n    <tr>\n      <th>2</th>\n      <td>100694_6</td>\n      <td>../data/hotencode-test\\100694_6.jpg</td>\n      <td>../data/hotencode-test\\100694_6_m.png</td>\n    </tr>\n    <tr>\n      <th>3</th>\n      <td>100694_0</td>\n      <td>../data/hotencode-test\\100694_0.jpg</td>\n      <td>../data/hotencode-test\\100694_0_m.png</td>\n    </tr>\n    <tr>\n      <th>4</th>\n      <td>100694_7</td>\n      <td>../data/hotencode-test\\100694_7.jpg</td>\n      <td>../data/hotencode-test\\100694_7_m.png</td>\n    </tr>\n    <tr>\n      <th>5</th>\n      <td>100694_8</td>\n      <td>../data/hotencode-test\\100694_8.jpg</td>\n      <td>../data/hotencode-test\\100694_8_m.png</td>\n    </tr>\n    <tr>\n      <th>6</th>\n      <td>100694_2</td>\n      <td>../data/hotencode-test\\100694_2.jpg</td>\n      <td>../data/hotencode-test\\100694_2_m.png</td>\n    </tr>\n    <tr>\n      <th>7</th>\n      <td>100694_3</td>\n      <td>../data/hotencode-test\\100694_3.jpg</td>\n      <td>../data/hotencode-test\\100694_3_m.png</td>\n    </tr>\n    <tr>\n      <th>8</th>\n      <td>100694_13</td>\n      <td>../data/hotencode-test\\100694_13.jpg</td>\n      <td>../data/hotencode-test\\100694_13_m.png</td>\n    </tr>\n    <tr>\n      <th>9</th>\n      <td>100694_10</td>\n      <td>../data/hotencode-test\\100694_10.jpg</td>\n      <td>../data/hotencode-test\\100694_10_m.png</td>\n    </tr>\n    <tr>\n      <th>10</th>\n      <td>102122_1</td>\n      <td>../data/hotencode-test\\102122_1.jpg</td>\n      <td>../data/hotencode-test\\102122_1_m.png</td>\n    </tr>\n    <tr>\n      <th>11</th>\n      <td>100694_11</td>\n      <td>../data/hotencode-test\\100694_11.jpg</td>\n      <td>../data/hotencode-test\\100694_11_m.png</td>\n    </tr>\n    <tr>\n      <th>12</th>\n      <td>100694_15</td>\n      <td>../data/hotencode-test\\100694_15.jpg</td>\n      <td>../data/hotencode-test\\100694_15_m.png</td>\n    </tr>\n    <tr>\n      <th>13</th>\n      <td>100694_12</td>\n      <td>../data/hotencode-test\\100694_12.jpg</td>\n      <td>../data/hotencode-test\\100694_12_m.png</td>\n    </tr>\n    <tr>\n      <th>14</th>\n      <td>102122_0</td>\n      <td>../data/hotencode-test\\102122_0.jpg</td>\n      <td>../data/hotencode-test\\102122_0_m.png</td>\n    </tr>\n  </tbody>\n</table>\n</div>"
     },
     "execution_count": 12,
     "metadata": {},
     "output_type": "execute_result"
    }
   ],
   "source": [
    "metadata_df"
   ],
   "metadata": {
    "collapsed": false,
    "ExecuteTime": {
     "end_time": "2023-12-18T22:33:25.816346800Z",
     "start_time": "2023-12-18T22:33:25.619115800Z"
    }
   },
   "id": "ef2219ee7e95398d"
  },
  {
   "cell_type": "code",
   "execution_count": 13,
   "outputs": [],
   "source": [
    "# FIRST_LANDCOVER_AI_ROOT = '../data/landcover.ai.v0'\n",
    "# split_images(FIRST_LANDCOVER_AI_ROOT)\n"
   ],
   "metadata": {
    "collapsed": false,
    "ExecuteTime": {
     "end_time": "2023-12-18T22:33:25.844298800Z",
     "start_time": "2023-12-18T22:33:25.634639800Z"
    }
   },
   "id": "fd9df9c2d6ec8f25"
  },
  {
   "cell_type": "code",
   "execution_count": 14,
   "outputs": [],
   "source": [
    "# pytorsch\n",
    "# batch normalisier\n",
    "# normalisieren wertebereich\n",
    "# euqalizer nur schwarz weiß\n",
    "# noise reducting min max \n",
    "# blurr\n",
    "# one hot\n",
    "# yolo vs cnn\n",
    "#"
   ],
   "metadata": {
    "collapsed": false,
    "ExecuteTime": {
     "end_time": "2023-12-18T22:33:25.844298800Z",
     "start_time": "2023-12-18T22:33:25.650390300Z"
    }
   },
   "id": "ca3222b8fd5620cd"
  },
  {
   "cell_type": "markdown",
   "source": [
    "urban_land,0,255,255\n",
    "agriculture_land,255,255,0\n",
    "rangeland,255,0,255\n",
    "forest_land,0,255,0\n",
    "water,0,0,255\n",
    "barren_land,255,255,255\n",
    "unknown,0,0,0\n",
    "\n",
    "building (1), woodland (2), water(3), road(4)\n",
    "->\n",
    "building 1 -> 0,255,255\n",
    "woodland 2 -> 0,255,0\n",
    "water    3 -> 0,0,255\n",
    "road     4 -> 0,0,0\n"
   ],
   "metadata": {
    "collapsed": false
   },
   "id": "a44bb0d140c49b64"
  },
  {
   "cell_type": "markdown",
   "source": [],
   "metadata": {
    "collapsed": false
   },
   "id": "760623668db0d7e3"
  }
 ],
 "metadata": {
  "kernelspec": {
   "display_name": "Python 3",
   "language": "python",
   "name": "python3"
  },
  "language_info": {
   "codemirror_mode": {
    "name": "ipython",
    "version": 2
   },
   "file_extension": ".py",
   "mimetype": "text/x-python",
   "name": "python",
   "nbconvert_exporter": "python",
   "pygments_lexer": "ipython2",
   "version": "2.7.6"
  }
 },
 "nbformat": 4,
 "nbformat_minor": 5
}
