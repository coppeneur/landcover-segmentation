{
 "cells": [
  {
   "cell_type": "markdown",
   "source": [
    "# Merging LandCover.ai and DeepGlobe dataset\n",
    "\n",
    "### todo\n",
    "- [ ] find fitting resolution\n",
    "- [ ] transfer labels to same\n",
    "- [ ] Resize resolution\n",
    "- [ ] v0 verwenden weil da keine straßen als label sind??\n",
    "\n",
    "### additional info\n",
    "\n",
    "using landcover.ai v1"
   ],
   "metadata": {
    "collapsed": false
   },
   "id": "c8f60c3a55e40d47"
  },
  {
   "cell_type": "code",
   "execution_count": 8,
   "outputs": [],
   "source": [
    "import cv2\n",
    "import numpy as np\n",
    "import matplotlib.pyplot as plt\n",
    "import seaborn as sns"
   ],
   "metadata": {
    "collapsed": false,
    "ExecuteTime": {
     "end_time": "2023-12-14T12:42:45.195067900Z",
     "start_time": "2023-12-14T12:42:44.991857700Z"
    }
   },
   "id": "ae541b190bbdf5fb"
  },
  {
   "cell_type": "code",
   "execution_count": 9,
   "outputs": [],
   "source": [
    "# data root\n",
    "LANDCOVER_AI_ROOT = '../data/landcover.ai.v1'\n",
    "DEEPGLOBE_ROOT = '../data/deepglobe'\n",
    "MERGED_ROOT = '../data/merge'"
   ],
   "metadata": {
    "collapsed": false,
    "ExecuteTime": {
     "end_time": "2023-12-14T12:42:45.203072700Z",
     "start_time": "2023-12-14T12:42:45.014321400Z"
    }
   },
   "id": "286dde655140d68b"
  },
  {
   "cell_type": "markdown",
   "source": [
    "Landcover.ai dataset masks need to be mapped from class to color to visualise the pictures "
   ],
   "metadata": {
    "collapsed": false
   },
   "id": "4308433bb5f6c3fb"
  },
  {
   "cell_type": "code",
   "execution_count": null,
   "outputs": [],
   "source": [
    "from notebooks.utils import split_images\n",
    "# cropping images due to gpu resource and the need of fixed size for the algorithm\n",
    "# split_images(LANDCOVER_AI_ROOT)\n",
    "# split_images(DEEPGLOBE_ROOT + '/train')\n",
    "# split_images(FIRST_LANDCOVER_AI_ROOT + '/train')"
   ],
   "metadata": {
    "collapsed": false
   },
   "id": "7d8b3cf01c0dd442"
  },
  {
   "cell_type": "code",
   "execution_count": null,
   "outputs": [],
   "source": [
    "import notebooks.utils as ut\n",
    "\n",
    "metadata_df = ut.read_metadata('../data/merge')\n",
    "file_name = '../data/metadata.xlsx'\n",
    "metadata_df.to_excel(file_name, index=False, na_rep='N/A', index_label='ID')"
   ],
   "metadata": {
    "collapsed": false
   },
   "id": "f57647295d5f0b11"
  },
  {
   "cell_type": "code",
   "execution_count": null,
   "outputs": [],
   "source": [
    "# Perform 90/10 split for train / val\n",
    "valid_df = metadata_df.sample(frac=0.2, random_state=42)\n",
    "train_df = metadata_df.drop(valid_df.index)\n",
    "len(train_df), len(valid_df)"
   ],
   "metadata": {
    "collapsed": false
   },
   "id": "27cd38ac9e50adc3"
  },
  {
   "cell_type": "code",
   "execution_count": null,
   "outputs": [],
   "source": [
    "# FIRST_LANDCOVER_AI_ROOT = '../data/landcover.ai.v0'\n",
    "# split_images(FIRST_LANDCOVER_AI_ROOT)\n"
   ],
   "metadata": {
    "collapsed": false
   },
   "id": "fd9df9c2d6ec8f25"
  },
  {
   "cell_type": "code",
   "execution_count": 14,
   "outputs": [],
   "source": [
    "# pytorsch\n",
    "# batch normalisier\n",
    "# normalisieren wertebereich\n",
    "# euqalizer nur schwarz weiß\n",
    "# noise reducting min max \n",
    "# blurr\n",
    "# one hot\n",
    "# yolo vs cnn\n",
    "#"
   ],
   "metadata": {
    "collapsed": false,
    "ExecuteTime": {
     "end_time": "2023-12-14T12:42:45.226355800Z",
     "start_time": "2023-12-14T12:42:45.173009700Z"
    }
   },
   "id": "ca3222b8fd5620cd"
  },
  {
   "cell_type": "markdown",
   "source": [
    "urban_land,0,255,255\n",
    "agriculture_land,255,255,0\n",
    "rangeland,255,0,255\n",
    "forest_land,0,255,0\n",
    "water,0,0,255\n",
    "barren_land,255,255,255\n",
    "unknown,0,0,0\n",
    "\n",
    "building (1), woodland (2), water(3), road(4)\n",
    "->\n",
    "building 1 -> 0,255,255\n",
    "woodland 2 -> 0,255,0\n",
    "water    3 -> 0,0,255\n",
    "road     4 -> 0,0,0\n"
   ],
   "metadata": {
    "collapsed": false
   },
   "id": "a44bb0d140c49b64"
  },
  {
   "cell_type": "markdown",
   "source": [],
   "metadata": {
    "collapsed": false
   },
   "id": "760623668db0d7e3"
  }
 ],
 "metadata": {
  "kernelspec": {
   "display_name": "Python 3",
   "language": "python",
   "name": "python3"
  },
  "language_info": {
   "codemirror_mode": {
    "name": "ipython",
    "version": 2
   },
   "file_extension": ".py",
   "mimetype": "text/x-python",
   "name": "python",
   "nbconvert_exporter": "python",
   "pygments_lexer": "ipython2",
   "version": "2.7.6"
  }
 },
 "nbformat": 4,
 "nbformat_minor": 5
}
